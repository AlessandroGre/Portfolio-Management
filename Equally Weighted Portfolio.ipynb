{
 "cells": [
  {
   "cell_type": "markdown",
   "id": "27570544-7961-44ac-a629-924659afc5f6",
   "metadata": {},
   "source": [
    "## Equally weighted portfolio of FAANG stocks \n",
    "\n",
    "- Facebook (META)\n",
    "- Apple (AAPL)\n",
    "- Amazon (AMZN)\n",
    "- Netflix (NFLX)\n",
    "- Google (GOOG)"
   ]
  },
  {
   "cell_type": "markdown",
   "id": "d0a2e042-9541-4e4f-b819-03cca94af94c",
   "metadata": {},
   "source": [
    "### Library Imports"
   ]
  },
  {
   "cell_type": "code",
   "execution_count": 8,
   "id": "f72fb9a4-c51f-4e57-af4b-7aa090dab4d7",
   "metadata": {
    "tags": []
   },
   "outputs": [],
   "source": [
    "import numpy as np\n",
    "import pandas as pd\n",
    "import yfinance as yf\n",
    "import xlsxwriter\n",
    "import math"
   ]
  },
  {
   "cell_type": "markdown",
   "id": "9a4c12ee-7c6a-4556-b90d-7184899fa236",
   "metadata": {},
   "source": [
    "### Define a new function to retrieve stock prices"
   ]
  },
  {
   "cell_type": "code",
   "execution_count": 32,
   "id": "a2d5b266-10cd-49aa-ab47-fc93a8d2add9",
   "metadata": {
    "tags": []
   },
   "outputs": [],
   "source": [
    "def get_stock_price(ticker):\n",
    "    stock = yf.Ticker(ticker)\n",
    "    hist = stock.history(period=\"1d\")\n",
    "    return hist['Close'][0] if not hist.empty else None"
   ]
  },
  {
   "cell_type": "markdown",
   "id": "ed90c247-d184-4bfd-b64f-d8c588d0b0bc",
   "metadata": {},
   "source": [
    "### Vector of Stocks Tickers"
   ]
  },
  {
   "cell_type": "code",
   "execution_count": 44,
   "id": "e6001ee9-056e-442d-9b2a-e02efb91d617",
   "metadata": {
    "tags": []
   },
   "outputs": [
    {
     "name": "stdin",
     "output_type": "stream",
     "text": [
      "Please provide the stocks ticker (e.g. META, FB, AAPL):  META, AAPL, AMZN, NFLX, GOOG\n"
     ]
    },
    {
     "name": "stdout",
     "output_type": "stream",
     "text": [
      " \n",
      "You have chosen to invest in the following stocks: ['META', 'AAPL', 'AMZN', 'NFLX', 'GOOG']\n"
     ]
    }
   ],
   "source": [
    "stocks_input = input('Please provide the stocks ticker (e.g. META, FB, AAPL): ')\n",
    "\n",
    "stocks = stocks_input.split(',')\n",
    "stocks = [ticker.strip() for ticker in stocks]\n",
    "\n",
    "print(' ')\n",
    "print('You have chosen to invest in the following stocks:', stocks)"
   ]
  },
  {
   "cell_type": "markdown",
   "id": "e4994e44-f11f-4ab0-a7a3-a5fbad112232",
   "metadata": {},
   "source": [
    "### Retrieve Stock Price"
   ]
  },
  {
   "cell_type": "code",
   "execution_count": 45,
   "id": "a72f7e3e-73bf-4414-bb76-cf08f5852c7f",
   "metadata": {
    "tags": []
   },
   "outputs": [
    {
     "data": {
      "text/html": [
       "<div>\n",
       "<style scoped>\n",
       "    .dataframe tbody tr th:only-of-type {\n",
       "        vertical-align: middle;\n",
       "    }\n",
       "\n",
       "    .dataframe tbody tr th {\n",
       "        vertical-align: top;\n",
       "    }\n",
       "\n",
       "    .dataframe thead th {\n",
       "        text-align: right;\n",
       "    }\n",
       "</style>\n",
       "<table border=\"1\" class=\"dataframe\">\n",
       "  <thead>\n",
       "    <tr style=\"text-align: right;\">\n",
       "      <th></th>\n",
       "      <th>Ticker</th>\n",
       "      <th>Stock Price</th>\n",
       "      <th>Number of Shares to Buy</th>\n",
       "    </tr>\n",
       "  </thead>\n",
       "  <tbody>\n",
       "    <tr>\n",
       "      <th>0</th>\n",
       "      <td>META</td>\n",
       "      <td>471.910004</td>\n",
       "      <td>N/A</td>\n",
       "    </tr>\n",
       "    <tr>\n",
       "      <th>1</th>\n",
       "      <td>AAPL</td>\n",
       "      <td>189.869995</td>\n",
       "      <td>N/A</td>\n",
       "    </tr>\n",
       "    <tr>\n",
       "      <th>2</th>\n",
       "      <td>AMZN</td>\n",
       "      <td>184.699997</td>\n",
       "      <td>N/A</td>\n",
       "    </tr>\n",
       "    <tr>\n",
       "      <th>3</th>\n",
       "      <td>NFLX</td>\n",
       "      <td>621.099976</td>\n",
       "      <td>N/A</td>\n",
       "    </tr>\n",
       "    <tr>\n",
       "      <th>4</th>\n",
       "      <td>GOOG</td>\n",
       "      <td>177.289993</td>\n",
       "      <td>N/A</td>\n",
       "    </tr>\n",
       "  </tbody>\n",
       "</table>\n",
       "</div>"
      ],
      "text/plain": [
       "  Ticker  Stock Price Number of Shares to Buy\n",
       "0   META   471.910004                     N/A\n",
       "1   AAPL   189.869995                     N/A\n",
       "2   AMZN   184.699997                     N/A\n",
       "3   NFLX   621.099976                     N/A\n",
       "4   GOOG   177.289993                     N/A"
      ]
     },
     "execution_count": 45,
     "metadata": {},
     "output_type": "execute_result"
    }
   ],
   "source": [
    "my_columns = ['Ticker','Stock Price','Number of Shares to Buy']\n",
    "final_dataframe = pd.DataFrame(columns=my_columns)\n",
    "\n",
    "for stock in stocks:\n",
    "    price = get_stock_price(stock)\n",
    "    new_row = pd.DataFrame({'Ticker': [stock], 'Stock Price': [price], 'Number of Shares to Buy': ['N/A']})\n",
    "    final_dataframe = pd.concat([final_dataframe, new_row], ignore_index=True)\n",
    "    \n",
    "final_dataframe"
   ]
  },
  {
   "cell_type": "markdown",
   "id": "0ed645bd-2483-4d59-b9b3-d0ce3cd4f781",
   "metadata": {},
   "source": [
    "### Compute the Number of Shares to Buy "
   ]
  },
  {
   "cell_type": "code",
   "execution_count": 46,
   "id": "d8690e6a-5574-44eb-81e2-c9aadbd2cef8",
   "metadata": {
    "tags": []
   },
   "outputs": [
    {
     "name": "stdin",
     "output_type": "stream",
     "text": [
      "Enter the size of your portfolio:  1000000\n"
     ]
    }
   ],
   "source": [
    "portfolio_size = input('Enter the size of your portfolio: ')\n",
    "\n",
    "try:\n",
    "    val = float(portfolio_size)\n",
    "except ValueError:\n",
    "    print(\"That's not a number! /n Please try again:\")\n",
    "    portfolio_size = input('Enter the value of your portfolio: ')\n",
    "    val = float(portfolio_size)"
   ]
  },
  {
   "cell_type": "code",
   "execution_count": 47,
   "id": "89e0f4ed-d523-4250-8858-0846374f187b",
   "metadata": {
    "tags": []
   },
   "outputs": [
    {
     "data": {
      "text/html": [
       "<div>\n",
       "<style scoped>\n",
       "    .dataframe tbody tr th:only-of-type {\n",
       "        vertical-align: middle;\n",
       "    }\n",
       "\n",
       "    .dataframe tbody tr th {\n",
       "        vertical-align: top;\n",
       "    }\n",
       "\n",
       "    .dataframe thead th {\n",
       "        text-align: right;\n",
       "    }\n",
       "</style>\n",
       "<table border=\"1\" class=\"dataframe\">\n",
       "  <thead>\n",
       "    <tr style=\"text-align: right;\">\n",
       "      <th></th>\n",
       "      <th>Ticker</th>\n",
       "      <th>Stock Price</th>\n",
       "      <th>Number of Shares to Buy</th>\n",
       "    </tr>\n",
       "  </thead>\n",
       "  <tbody>\n",
       "    <tr>\n",
       "      <th>0</th>\n",
       "      <td>META</td>\n",
       "      <td>471.910004</td>\n",
       "      <td>423</td>\n",
       "    </tr>\n",
       "    <tr>\n",
       "      <th>1</th>\n",
       "      <td>AAPL</td>\n",
       "      <td>189.869995</td>\n",
       "      <td>1053</td>\n",
       "    </tr>\n",
       "    <tr>\n",
       "      <th>2</th>\n",
       "      <td>AMZN</td>\n",
       "      <td>184.699997</td>\n",
       "      <td>1082</td>\n",
       "    </tr>\n",
       "    <tr>\n",
       "      <th>3</th>\n",
       "      <td>NFLX</td>\n",
       "      <td>621.099976</td>\n",
       "      <td>322</td>\n",
       "    </tr>\n",
       "    <tr>\n",
       "      <th>4</th>\n",
       "      <td>GOOG</td>\n",
       "      <td>177.289993</td>\n",
       "      <td>1128</td>\n",
       "    </tr>\n",
       "  </tbody>\n",
       "</table>\n",
       "</div>"
      ],
      "text/plain": [
       "  Ticker  Stock Price Number of Shares to Buy\n",
       "0   META   471.910004                     423\n",
       "1   AAPL   189.869995                    1053\n",
       "2   AMZN   184.699997                    1082\n",
       "3   NFLX   621.099976                     322\n",
       "4   GOOG   177.289993                    1128"
      ]
     },
     "execution_count": 47,
     "metadata": {},
     "output_type": "execute_result"
    }
   ],
   "source": [
    "position_size = val/len(final_dataframe.index)\n",
    "\n",
    "for i in range(0, len(final_dataframe.index)):\n",
    "    final_dataframe.loc[i, 'Number of Shares to Buy'] = math.floor(position_size / final_dataframe.loc[i, 'Stock Price'])\n",
    "\n",
    "final_dataframe"
   ]
  },
  {
   "cell_type": "markdown",
   "id": "4358f4ae-a697-42a6-90d7-8bd7d7b8fe02",
   "metadata": {},
   "source": [
    "### Save the Output as an Excel file "
   ]
  },
  {
   "cell_type": "code",
   "execution_count": 42,
   "id": "4df07667-7e25-420f-9cf7-63af4cd47cf2",
   "metadata": {
    "tags": []
   },
   "outputs": [],
   "source": [
    "writer = pd.ExcelWriter('recommended trades.xlsx', engine='xlsxwriter')\n",
    "final_dataframe.to_excel(writer, 'Recommended Trades', index=False)\n",
    "\n",
    "background_color = '#0a0a23'\n",
    "font_color = '#ffffff'\n",
    "\n",
    "string_format = writer.book.add_format(\n",
    "    {\n",
    "        'font_color': font_color,\n",
    "        'bg_color': background_color,\n",
    "        'border': 1\n",
    "    }\n",
    ")\n",
    "\n",
    "dollar_format = writer.book.add_format(\n",
    "    {\n",
    "        'num_format':'$0.00',\n",
    "        'font_color': font_color,\n",
    "        'bg_color': background_color,\n",
    "        'border': 1\n",
    "    }\n",
    ")\n",
    "\n",
    "integer_format = writer.book.add_format(\n",
    "    {\n",
    "        'num_format':'0',\n",
    "        'font_color': font_color,\n",
    "        'bg_color': background_color,\n",
    "        'border': 1\n",
    "    }\n",
    ")"
   ]
  },
  {
   "cell_type": "code",
   "execution_count": 43,
   "id": "9be89eed-23d3-4844-acad-f84a1e353050",
   "metadata": {
    "tags": []
   },
   "outputs": [],
   "source": [
    "columns_format = {\n",
    "    'A': ['Ticker', string_format],\n",
    "    'B': ['Stock Price', dollar_format],\n",
    "    'C': ['Number of Shares to Buy', integer_format]\n",
    "}\n",
    "\n",
    "for column in columns_format.keys():\n",
    "    writer.sheets['Recommended Trades'].set_column(f'{column}:{column}', 18, columns_format[column][1])\n",
    "    writer.sheets['Recommended Trades'].write(f'{column}1', columns_format[column][0], columns_format[column][1])\n",
    "    \n",
    "writer.close()"
   ]
  },
  {
   "cell_type": "code",
   "execution_count": null,
   "id": "930c5b23-003d-47cb-8368-d1657f6439d7",
   "metadata": {},
   "outputs": [],
   "source": []
  }
 ],
 "metadata": {
  "kernelspec": {
   "display_name": "Python 3 (ipykernel)",
   "language": "python",
   "name": "python3"
  },
  "language_info": {
   "codemirror_mode": {
    "name": "ipython",
    "version": 3
   },
   "file_extension": ".py",
   "mimetype": "text/x-python",
   "name": "python",
   "nbconvert_exporter": "python",
   "pygments_lexer": "ipython3",
   "version": "3.9.16"
  }
 },
 "nbformat": 4,
 "nbformat_minor": 5
}
